{
  "cells": [
    {
      "cell_type": "markdown",
      "metadata": {
        "id": "JKZArBcprxw_"
      },
      "source": [
        "# Prediction of Heart Attack Using Machine Learning Algorithms and Deep Learning\n",
        "\n",
        "#### Avanthi Narasingu"
      ]
    },
    {
      "cell_type": "code",
      "source": [
        "# from google.colab import drive\n",
        "# drive.mount('/content/drive')"
      ],
      "metadata": {
        "id": "WATjB5w3ubeQ"
      },
      "execution_count": 2,
      "outputs": []
    },
    {
      "cell_type": "code",
      "execution_count": 3,
      "metadata": {
        "id": "KT02KHxtrxxF"
      },
      "outputs": [],
      "source": [
        "import pandas as pd\n",
        "import numpy as np\n",
        "from sklearn.model_selection import train_test_split\n",
        "from sklearn.metrics import accuracy_score"
      ]
    },
    {
      "cell_type": "code",
      "execution_count": 4,
      "metadata": {
        "id": "7YY_huMGrxxH"
      },
      "outputs": [],
      "source": [
        "data = pd.read_csv(\"/heart (1).csv\")"
      ]
    },
    {
      "cell_type": "markdown",
      "metadata": {
        "id": "CCIfX1VJrxxI"
      },
      "source": [
        "### Decision Tree Classifier"
      ]
    },
    {
      "cell_type": "code",
      "execution_count": 5,
      "metadata": {
        "id": "IDMPXaqMrxxJ"
      },
      "outputs": [],
      "source": [
        "from sklearn.tree import DecisionTreeClassifier"
      ]
    },
    {
      "cell_type": "code",
      "execution_count": 6,
      "metadata": {
        "id": "9KBqi-JlrxxJ"
      },
      "outputs": [],
      "source": [
        "X = data.drop(\"target\", axis=1) # Features are all columns except target\n",
        "y = data[\"target\"] # Target is the column named target\n",
        "\n",
        "X_train, X_test, y_train, y_test = train_test_split(X, y, test_size=0.2, random_state=7)"
      ]
    },
    {
      "cell_type": "code",
      "execution_count": 7,
      "metadata": {
        "id": "OJb-W9gsrxxK"
      },
      "outputs": [],
      "source": [
        "reg = DecisionTreeClassifier(criterion = 'entropy', random_state = 0)\n",
        "reg.fit(X_train,y_train)\n",
        "\n",
        "Y_pred = reg.predict(X_test)"
      ]
    },
    {
      "cell_type": "code",
      "execution_count": 8,
      "metadata": {
        "colab": {
          "base_uri": "https://localhost:8080/"
        },
        "id": "jKWObmhGrxxL",
        "outputId": "9bc0b6b3-acd3-4aa8-be55-32146ada6458"
      },
      "outputs": [
        {
          "output_type": "stream",
          "name": "stdout",
          "text": [
            "Accuracy - test set: 100.00%\n"
          ]
        }
      ],
      "source": [
        "#accuracy on test set\n",
        "accuracy = reg.score(X_test, y_test)\n",
        "print(\"Accuracy - test set: %.2f%%\" % (accuracy*100.0))"
      ]
    },
    {
      "cell_type": "markdown",
      "metadata": {
        "id": "hL-zJhrcrxxM"
      },
      "source": [
        "### Random Forest Classifier"
      ]
    },
    {
      "cell_type": "code",
      "execution_count": 9,
      "metadata": {
        "id": "beosS_UkrxxN"
      },
      "outputs": [],
      "source": [
        "from sklearn.ensemble import RandomForestClassifier"
      ]
    },
    {
      "cell_type": "code",
      "execution_count": 10,
      "metadata": {
        "id": "_NCFizbnrxxN"
      },
      "outputs": [],
      "source": [
        "X = data.drop(\"target\", axis=1) # Features are all columns except target\n",
        "y = data[\"target\"] # Target is the column named target\n",
        "\n",
        "X_train, X_test, y_train, y_test = train_test_split(X, y, test_size=0.3, random_state=5)"
      ]
    },
    {
      "cell_type": "code",
      "execution_count": 11,
      "metadata": {
        "id": "NOEq4lFBrxxO"
      },
      "outputs": [],
      "source": [
        "reg = RandomForestClassifier(criterion = 'entropy', random_state = 0)\n",
        "reg.fit(X_train,y_train)\n",
        "Y_pred = reg.predict(X_test)"
      ]
    },
    {
      "cell_type": "code",
      "execution_count": 12,
      "metadata": {
        "colab": {
          "base_uri": "https://localhost:8080/"
        },
        "id": "09WXQ5_urxxO",
        "outputId": "317cbf23-decd-47e9-c88a-34b76dcc9e48"
      },
      "outputs": [
        {
          "output_type": "stream",
          "name": "stdout",
          "text": [
            "Accuracy - test set: 100.00%\n"
          ]
        }
      ],
      "source": [
        "#accuracy on test set\n",
        "accuracy = reg.score(X_test, y_test)\n",
        "print(\"Accuracy - test set: %.2f%%\" % (accuracy*100.0))"
      ]
    },
    {
      "cell_type": "markdown",
      "metadata": {
        "id": "oLgo4szKrxxO"
      },
      "source": [
        "### Support vector machine (SVM)"
      ]
    },
    {
      "cell_type": "code",
      "execution_count": 13,
      "metadata": {
        "id": "pyAd63lFrxxO"
      },
      "outputs": [],
      "source": [
        "from sklearn.svm import SVC"
      ]
    },
    {
      "cell_type": "code",
      "execution_count": 14,
      "metadata": {
        "id": "9Jkyp3iNrxxP"
      },
      "outputs": [],
      "source": [
        "X = data.drop(\"target\", axis=1) # Features are all columns except target\n",
        "y = data[\"target\"] # Target is the column named target\n",
        "\n",
        "X_train, X_test, y_train, y_test = train_test_split(X, y, test_size=0.3, random_state=5)"
      ]
    },
    {
      "cell_type": "code",
      "execution_count": 15,
      "metadata": {
        "id": "9wz2kMp6rxxP"
      },
      "outputs": [],
      "source": [
        "reg = SVC()\n",
        "reg.fit(X_train,y_train)\n",
        "Y_pred = reg.predict(X_test)"
      ]
    },
    {
      "cell_type": "code",
      "execution_count": 16,
      "metadata": {
        "colab": {
          "base_uri": "https://localhost:8080/"
        },
        "id": "4TnjHHeUrxxP",
        "outputId": "29f69a49-1a6c-4fc9-a264-cb016ede6c7d"
      },
      "outputs": [
        {
          "output_type": "stream",
          "name": "stdout",
          "text": [
            "Accuracy - test set: 70.78%\n"
          ]
        }
      ],
      "source": [
        "#accuracy on test set\n",
        "accuracy = reg.score(X_test, y_test)\n",
        "print(\"Accuracy - test set: %.2f%%\" % (accuracy*100.0))"
      ]
    },
    {
      "cell_type": "markdown",
      "metadata": {
        "id": "T3jsG8BmrxxP"
      },
      "source": [
        "### Logistic Regression"
      ]
    },
    {
      "cell_type": "code",
      "execution_count": 17,
      "metadata": {
        "id": "Metc5_jsrxxP"
      },
      "outputs": [],
      "source": [
        "from sklearn.linear_model import LogisticRegression"
      ]
    },
    {
      "cell_type": "code",
      "execution_count": 18,
      "metadata": {
        "id": "92_3PgGMrxxP"
      },
      "outputs": [],
      "source": [
        "X = data.drop(\"target\", axis=1) # Features are all columns except target\n",
        "y = data[\"target\"] # Target is the column named target\n",
        "\n",
        "X_train, X_test, y_train, y_test = train_test_split(X, y, test_size=0.2, random_state=7)"
      ]
    },
    {
      "cell_type": "code",
      "execution_count": 19,
      "metadata": {
        "id": "Hg7_RjRurxxQ"
      },
      "outputs": [],
      "source": [
        "reg = LogisticRegression(max_iter=1000, random_state=0)\n",
        "reg.fit(X_train,y_train)\n",
        "Y_pred = reg.predict(X_test)"
      ]
    },
    {
      "cell_type": "code",
      "execution_count": 20,
      "metadata": {
        "colab": {
          "base_uri": "https://localhost:8080/"
        },
        "id": "TZ6pfFBkrxxQ",
        "outputId": "4dabcb0c-e503-4640-af6c-9d1689abcf24"
      },
      "outputs": [
        {
          "output_type": "stream",
          "name": "stdout",
          "text": [
            "Accuracy - test set: 87.80%\n"
          ]
        }
      ],
      "source": [
        "#accuracy on test set\n",
        "accuracy = reg.score(X_test, y_test)\n",
        "print(\"Accuracy - test set: %.2f%%\" % (accuracy*100.0))"
      ]
    },
    {
      "cell_type": "markdown",
      "metadata": {
        "id": "XLQ1H5gIrxxQ"
      },
      "source": [
        "### K-Nearest Neighbour (KNN)"
      ]
    },
    {
      "cell_type": "code",
      "execution_count": 21,
      "metadata": {
        "id": "TcQURkSOrxxQ"
      },
      "outputs": [],
      "source": [
        "from sklearn.neighbors import KNeighborsClassifier"
      ]
    },
    {
      "cell_type": "code",
      "execution_count": 22,
      "metadata": {
        "id": "XOL9peaarxxQ"
      },
      "outputs": [],
      "source": [
        "X = data.drop(\"target\", axis=1) # Features are all columns except target\n",
        "y = data[\"target\"] # Target is the column named target\n",
        "\n",
        "X_train, X_test, y_train, y_test = train_test_split(X, y, test_size=0.2, random_state=7)"
      ]
    },
    {
      "cell_type": "code",
      "execution_count": 23,
      "metadata": {
        "id": "hZhGJxYarxxQ"
      },
      "outputs": [],
      "source": [
        "reg = KNeighborsClassifier()\n",
        "reg.fit(X_train,y_train)\n",
        "Y_pred = reg.predict(X_test)"
      ]
    },
    {
      "cell_type": "code",
      "execution_count": 24,
      "metadata": {
        "colab": {
          "base_uri": "https://localhost:8080/"
        },
        "id": "aYXzcusXrxxQ",
        "outputId": "58cd90c6-194f-4f0a-fee5-3a139275a789"
      },
      "outputs": [
        {
          "output_type": "stream",
          "name": "stdout",
          "text": [
            "Accuracy - test set: 74.63%\n"
          ]
        }
      ],
      "source": [
        "#accuracy on test set\n",
        "accuracy = reg.score(X_test, y_test)\n",
        "print(\"Accuracy - test set: %.2f%%\" % (accuracy*100.0))"
      ]
    },
    {
      "cell_type": "markdown",
      "metadata": {
        "id": "w6-Y4WaOrxxR"
      },
      "source": [
        "### Naive Byes"
      ]
    },
    {
      "cell_type": "code",
      "execution_count": 25,
      "metadata": {
        "id": "0Zegwn6krxxR"
      },
      "outputs": [],
      "source": [
        "from sklearn.naive_bayes import GaussianNB"
      ]
    },
    {
      "cell_type": "code",
      "execution_count": 26,
      "metadata": {
        "id": "d5rEXNRKrxxR"
      },
      "outputs": [],
      "source": [
        "X = data.drop(\"target\", axis=1) # Features are all columns except target\n",
        "y = data[\"target\"] # Target is the column named target\n",
        "\n",
        "X_train, X_test, y_train, y_test = train_test_split(X, y, test_size=0.2, random_state=7)"
      ]
    },
    {
      "cell_type": "code",
      "execution_count": 27,
      "metadata": {
        "id": "sExC8TKlrxxR"
      },
      "outputs": [],
      "source": [
        "reg = GaussianNB()\n",
        "reg.fit(X_train,y_train)\n",
        "Y_pred = reg.predict(X_test)"
      ]
    },
    {
      "cell_type": "code",
      "execution_count": 28,
      "metadata": {
        "colab": {
          "base_uri": "https://localhost:8080/"
        },
        "id": "GDM8IH8yrxxS",
        "outputId": "8f91bb3b-2b7f-4c0c-d270-4be1412334fa"
      },
      "outputs": [
        {
          "output_type": "stream",
          "name": "stdout",
          "text": [
            "Accuracy - test set: 84.88%\n"
          ]
        }
      ],
      "source": [
        "#accuracy on test set\n",
        "accuracy = reg.score(X_test, y_test)\n",
        "print(\"Accuracy - test set: %.2f%%\" % (accuracy*100.0))"
      ]
    },
    {
      "cell_type": "markdown",
      "metadata": {
        "id": "Uo4LAnUcrxxS"
      },
      "source": [
        "### Deep Neural Networks (DNN)"
      ]
    },
    {
      "cell_type": "code",
      "execution_count": 29,
      "metadata": {
        "id": "hLF2cz45rxxS"
      },
      "outputs": [],
      "source": [
        "from keras.models import Sequential\n",
        "from keras.layers import Dense"
      ]
    },
    {
      "cell_type": "code",
      "execution_count": 31,
      "metadata": {
        "id": "gteANmyErxxS"
      },
      "outputs": [],
      "source": [
        "df = pd.read_csv(\"/heart (1).csv\")\n",
        "x=df.drop('target',axis=1)\n",
        "y=df['target']\n",
        "x_train,x_test,y_train,y_test = train_test_split(x,y,test_size=0.25,random_state=42)"
      ]
    },
    {
      "cell_type": "code",
      "execution_count": 32,
      "metadata": {
        "id": "VoBswxwGrxxT"
      },
      "outputs": [],
      "source": [
        "model = Sequential()\n",
        "model.add(Dense(500, activation='relu', input_dim=13))\n",
        "model.add(Dense(100, activation='relu'))\n",
        "model.add(Dense(50, activation='relu'))\n",
        "model.add(Dense(1, activation='sigmoid'))\n"
      ]
    },
    {
      "cell_type": "code",
      "execution_count": 33,
      "metadata": {
        "colab": {
          "base_uri": "https://localhost:8080/"
        },
        "id": "7PvVZFa4rxxT",
        "outputId": "b8cc1504-7923-47ed-8460-f1b94c41b960"
      },
      "outputs": [
        {
          "output_type": "stream",
          "name": "stdout",
          "text": [
            "Epoch 1/100\n",
            "24/24 [==============================] - 2s 9ms/step - loss: 1.8650 - accuracy: 0.5990\n",
            "Epoch 2/100\n",
            "24/24 [==============================] - 0s 7ms/step - loss: 0.6427 - accuracy: 0.6823\n",
            "Epoch 3/100\n",
            "24/24 [==============================] - 0s 6ms/step - loss: 0.6281 - accuracy: 0.6758\n",
            "Epoch 4/100\n",
            "24/24 [==============================] - 0s 5ms/step - loss: 0.6646 - accuracy: 0.6797\n",
            "Epoch 5/100\n",
            "24/24 [==============================] - 0s 6ms/step - loss: 0.5431 - accuracy: 0.7370\n",
            "Epoch 6/100\n",
            "24/24 [==============================] - 0s 4ms/step - loss: 0.5531 - accuracy: 0.7435\n",
            "Epoch 7/100\n",
            "24/24 [==============================] - 0s 6ms/step - loss: 0.5572 - accuracy: 0.7122\n",
            "Epoch 8/100\n",
            "24/24 [==============================] - 0s 6ms/step - loss: 0.6199 - accuracy: 0.7057\n",
            "Epoch 9/100\n",
            "24/24 [==============================] - 0s 6ms/step - loss: 0.5244 - accuracy: 0.7370\n",
            "Epoch 10/100\n",
            "24/24 [==============================] - 0s 5ms/step - loss: 0.4621 - accuracy: 0.7826\n",
            "Epoch 11/100\n",
            "24/24 [==============================] - 0s 9ms/step - loss: 0.4334 - accuracy: 0.7878\n",
            "Epoch 12/100\n",
            "24/24 [==============================] - 0s 5ms/step - loss: 0.4225 - accuracy: 0.8047\n",
            "Epoch 13/100\n",
            "24/24 [==============================] - 0s 6ms/step - loss: 0.4026 - accuracy: 0.8255\n",
            "Epoch 14/100\n",
            "24/24 [==============================] - 0s 7ms/step - loss: 0.3676 - accuracy: 0.8268\n",
            "Epoch 15/100\n",
            "24/24 [==============================] - 0s 8ms/step - loss: 0.3717 - accuracy: 0.8385\n",
            "Epoch 16/100\n",
            "24/24 [==============================] - 0s 5ms/step - loss: 0.4050 - accuracy: 0.8151\n",
            "Epoch 17/100\n",
            "24/24 [==============================] - 0s 6ms/step - loss: 0.5979 - accuracy: 0.7500\n",
            "Epoch 18/100\n",
            "24/24 [==============================] - 0s 5ms/step - loss: 0.4583 - accuracy: 0.7904\n",
            "Epoch 19/100\n",
            "24/24 [==============================] - 0s 4ms/step - loss: 0.4390 - accuracy: 0.7995\n",
            "Epoch 20/100\n",
            "24/24 [==============================] - 0s 7ms/step - loss: 0.3565 - accuracy: 0.8503\n",
            "Epoch 21/100\n",
            "24/24 [==============================] - 0s 5ms/step - loss: 0.3793 - accuracy: 0.8385\n",
            "Epoch 22/100\n",
            "24/24 [==============================] - 0s 6ms/step - loss: 0.3628 - accuracy: 0.8464\n",
            "Epoch 23/100\n",
            "24/24 [==============================] - 0s 5ms/step - loss: 0.5409 - accuracy: 0.7643\n",
            "Epoch 24/100\n",
            "24/24 [==============================] - 0s 5ms/step - loss: 0.4839 - accuracy: 0.7917\n",
            "Epoch 25/100\n",
            "24/24 [==============================] - 0s 5ms/step - loss: 0.4203 - accuracy: 0.8164\n",
            "Epoch 26/100\n",
            "24/24 [==============================] - 0s 4ms/step - loss: 0.3422 - accuracy: 0.8620\n",
            "Epoch 27/100\n",
            "24/24 [==============================] - 0s 4ms/step - loss: 0.3328 - accuracy: 0.8633\n",
            "Epoch 28/100\n",
            "24/24 [==============================] - 0s 5ms/step - loss: 0.3587 - accuracy: 0.8385\n",
            "Epoch 29/100\n",
            "24/24 [==============================] - 0s 6ms/step - loss: 0.3857 - accuracy: 0.8359\n",
            "Epoch 30/100\n",
            "24/24 [==============================] - 0s 5ms/step - loss: 0.4108 - accuracy: 0.8021\n",
            "Epoch 31/100\n",
            "24/24 [==============================] - 0s 6ms/step - loss: 0.4225 - accuracy: 0.8190\n",
            "Epoch 32/100\n",
            "24/24 [==============================] - 0s 6ms/step - loss: 0.3811 - accuracy: 0.8216\n",
            "Epoch 33/100\n",
            "24/24 [==============================] - 0s 5ms/step - loss: 0.4213 - accuracy: 0.8125\n",
            "Epoch 34/100\n",
            "24/24 [==============================] - 0s 5ms/step - loss: 0.4034 - accuracy: 0.8177\n",
            "Epoch 35/100\n",
            "24/24 [==============================] - 0s 6ms/step - loss: 0.3383 - accuracy: 0.8503\n",
            "Epoch 36/100\n",
            "24/24 [==============================] - 0s 6ms/step - loss: 0.3472 - accuracy: 0.8346\n",
            "Epoch 37/100\n",
            "24/24 [==============================] - 0s 6ms/step - loss: 0.3915 - accuracy: 0.8242\n",
            "Epoch 38/100\n",
            "24/24 [==============================] - 0s 6ms/step - loss: 0.3795 - accuracy: 0.8177\n",
            "Epoch 39/100\n",
            "24/24 [==============================] - 0s 7ms/step - loss: 0.3485 - accuracy: 0.8568\n",
            "Epoch 40/100\n",
            "24/24 [==============================] - 0s 8ms/step - loss: 0.4181 - accuracy: 0.8164\n",
            "Epoch 41/100\n",
            "24/24 [==============================] - 0s 10ms/step - loss: 0.4008 - accuracy: 0.8320\n",
            "Epoch 42/100\n",
            "24/24 [==============================] - 0s 15ms/step - loss: 0.3541 - accuracy: 0.8516\n",
            "Epoch 43/100\n",
            "24/24 [==============================] - 0s 14ms/step - loss: 0.3606 - accuracy: 0.8451\n",
            "Epoch 44/100\n",
            "24/24 [==============================] - 0s 10ms/step - loss: 0.3511 - accuracy: 0.8490\n",
            "Epoch 45/100\n",
            "24/24 [==============================] - 0s 5ms/step - loss: 0.4248 - accuracy: 0.8190\n",
            "Epoch 46/100\n",
            "24/24 [==============================] - 0s 5ms/step - loss: 0.3674 - accuracy: 0.8385\n",
            "Epoch 47/100\n",
            "24/24 [==============================] - 0s 5ms/step - loss: 0.3504 - accuracy: 0.8503\n",
            "Epoch 48/100\n",
            "24/24 [==============================] - 0s 5ms/step - loss: 0.3297 - accuracy: 0.8607\n",
            "Epoch 49/100\n",
            "24/24 [==============================] - 0s 5ms/step - loss: 0.3350 - accuracy: 0.8633\n",
            "Epoch 50/100\n",
            "24/24 [==============================] - 0s 4ms/step - loss: 0.3308 - accuracy: 0.8594\n",
            "Epoch 51/100\n",
            "24/24 [==============================] - 0s 4ms/step - loss: 0.4194 - accuracy: 0.8099\n",
            "Epoch 52/100\n",
            "24/24 [==============================] - 0s 4ms/step - loss: 0.4401 - accuracy: 0.8138\n",
            "Epoch 53/100\n",
            "24/24 [==============================] - 0s 4ms/step - loss: 0.3862 - accuracy: 0.8229\n",
            "Epoch 54/100\n",
            "24/24 [==============================] - 0s 5ms/step - loss: 0.3581 - accuracy: 0.8477\n",
            "Epoch 55/100\n",
            "24/24 [==============================] - 0s 5ms/step - loss: 0.3338 - accuracy: 0.8542\n",
            "Epoch 56/100\n",
            "24/24 [==============================] - 0s 4ms/step - loss: 0.3520 - accuracy: 0.8385\n",
            "Epoch 57/100\n",
            "24/24 [==============================] - 0s 4ms/step - loss: 0.3306 - accuracy: 0.8594\n",
            "Epoch 58/100\n",
            "24/24 [==============================] - 0s 5ms/step - loss: 0.3240 - accuracy: 0.8542\n",
            "Epoch 59/100\n",
            "24/24 [==============================] - 0s 5ms/step - loss: 0.3640 - accuracy: 0.8346\n",
            "Epoch 60/100\n",
            "24/24 [==============================] - 0s 4ms/step - loss: 0.3226 - accuracy: 0.8724\n",
            "Epoch 61/100\n",
            "24/24 [==============================] - 0s 3ms/step - loss: 0.3336 - accuracy: 0.8581\n",
            "Epoch 62/100\n",
            "24/24 [==============================] - 0s 3ms/step - loss: 0.3496 - accuracy: 0.8490\n",
            "Epoch 63/100\n",
            "24/24 [==============================] - 0s 4ms/step - loss: 0.3446 - accuracy: 0.8516\n",
            "Epoch 64/100\n",
            "24/24 [==============================] - 0s 3ms/step - loss: 0.3361 - accuracy: 0.8385\n",
            "Epoch 65/100\n",
            "24/24 [==============================] - 0s 4ms/step - loss: 0.3224 - accuracy: 0.8555\n",
            "Epoch 66/100\n",
            "24/24 [==============================] - 0s 3ms/step - loss: 0.3388 - accuracy: 0.8529\n",
            "Epoch 67/100\n",
            "24/24 [==============================] - 0s 3ms/step - loss: 0.3334 - accuracy: 0.8529\n",
            "Epoch 68/100\n",
            "24/24 [==============================] - 0s 3ms/step - loss: 0.3307 - accuracy: 0.8529\n",
            "Epoch 69/100\n",
            "24/24 [==============================] - 0s 3ms/step - loss: 0.3170 - accuracy: 0.8581\n",
            "Epoch 70/100\n",
            "24/24 [==============================] - 0s 3ms/step - loss: 0.3364 - accuracy: 0.8529\n",
            "Epoch 71/100\n",
            "24/24 [==============================] - 0s 3ms/step - loss: 0.3125 - accuracy: 0.8659\n",
            "Epoch 72/100\n",
            "24/24 [==============================] - 0s 3ms/step - loss: 0.3022 - accuracy: 0.8750\n",
            "Epoch 73/100\n",
            "24/24 [==============================] - 0s 3ms/step - loss: 0.3025 - accuracy: 0.8750\n",
            "Epoch 74/100\n",
            "24/24 [==============================] - 0s 3ms/step - loss: 0.3138 - accuracy: 0.8698\n",
            "Epoch 75/100\n",
            "24/24 [==============================] - 0s 3ms/step - loss: 0.3471 - accuracy: 0.8594\n",
            "Epoch 76/100\n",
            "24/24 [==============================] - 0s 3ms/step - loss: 0.3282 - accuracy: 0.8672\n",
            "Epoch 77/100\n",
            "24/24 [==============================] - 0s 3ms/step - loss: 0.3430 - accuracy: 0.8568\n",
            "Epoch 78/100\n",
            "24/24 [==============================] - 0s 3ms/step - loss: 0.3509 - accuracy: 0.8516\n",
            "Epoch 79/100\n",
            "24/24 [==============================] - 0s 3ms/step - loss: 0.3495 - accuracy: 0.8464\n",
            "Epoch 80/100\n",
            "24/24 [==============================] - 0s 3ms/step - loss: 0.3203 - accuracy: 0.8633\n",
            "Epoch 81/100\n",
            "24/24 [==============================] - 0s 3ms/step - loss: 0.3192 - accuracy: 0.8685\n",
            "Epoch 82/100\n",
            "24/24 [==============================] - 0s 3ms/step - loss: 0.3470 - accuracy: 0.8464\n",
            "Epoch 83/100\n",
            "24/24 [==============================] - 0s 3ms/step - loss: 0.3076 - accuracy: 0.8737\n",
            "Epoch 84/100\n",
            "24/24 [==============================] - 0s 3ms/step - loss: 0.3146 - accuracy: 0.8724\n",
            "Epoch 85/100\n",
            "24/24 [==============================] - 0s 3ms/step - loss: 0.3225 - accuracy: 0.8750\n",
            "Epoch 86/100\n",
            "24/24 [==============================] - 0s 3ms/step - loss: 0.3164 - accuracy: 0.8776\n",
            "Epoch 87/100\n",
            "24/24 [==============================] - 0s 3ms/step - loss: 0.3133 - accuracy: 0.8620\n",
            "Epoch 88/100\n",
            "24/24 [==============================] - 0s 3ms/step - loss: 0.3391 - accuracy: 0.8464\n",
            "Epoch 89/100\n",
            "24/24 [==============================] - 0s 3ms/step - loss: 0.3068 - accuracy: 0.8750\n",
            "Epoch 90/100\n",
            "24/24 [==============================] - 0s 3ms/step - loss: 0.3483 - accuracy: 0.8646\n",
            "Epoch 91/100\n",
            "24/24 [==============================] - 0s 3ms/step - loss: 0.3374 - accuracy: 0.8620\n",
            "Epoch 92/100\n",
            "24/24 [==============================] - 0s 3ms/step - loss: 0.3280 - accuracy: 0.8490\n",
            "Epoch 93/100\n",
            "24/24 [==============================] - 0s 3ms/step - loss: 0.2921 - accuracy: 0.8854\n",
            "Epoch 94/100\n",
            "24/24 [==============================] - 0s 3ms/step - loss: 0.3545 - accuracy: 0.8477\n",
            "Epoch 95/100\n",
            "24/24 [==============================] - 0s 3ms/step - loss: 0.3798 - accuracy: 0.8268\n",
            "Epoch 96/100\n",
            "24/24 [==============================] - 0s 3ms/step - loss: 0.4215 - accuracy: 0.8112\n",
            "Epoch 97/100\n",
            "24/24 [==============================] - 0s 3ms/step - loss: 0.3121 - accuracy: 0.8659\n",
            "Epoch 98/100\n",
            "24/24 [==============================] - 0s 3ms/step - loss: 0.3219 - accuracy: 0.8711\n",
            "Epoch 99/100\n",
            "24/24 [==============================] - 0s 3ms/step - loss: 0.3343 - accuracy: 0.8659\n",
            "Epoch 100/100\n",
            "24/24 [==============================] - 0s 3ms/step - loss: 0.3625 - accuracy: 0.8411\n",
            "9/9 [==============================] - 0s 2ms/step\n",
            "[[9.9331200e-01]\n",
            " [9.9512982e-01]\n",
            " [1.9953474e-02]\n",
            " [9.8140621e-01]\n",
            " [5.3175636e-02]\n",
            " [9.1211957e-01]\n",
            " [3.0796506e-02]\n",
            " [1.9580388e-02]\n",
            " [9.2732900e-01]\n",
            " [1.0607366e-02]\n",
            " [9.8654765e-01]\n",
            " [2.3885951e-03]\n",
            " [9.3989897e-01]\n",
            " [9.9999899e-01]\n",
            " [6.5910697e-02]\n",
            " [9.8711175e-01]\n",
            " [1.0974199e-02]\n",
            " [9.9994391e-01]\n",
            " [9.8486477e-01]\n",
            " [1.2726213e-02]\n",
            " [7.5886512e-01]\n",
            " [9.9875487e-02]\n",
            " [4.9048659e-01]\n",
            " [1.1090793e-03]\n",
            " [7.5886512e-01]\n",
            " [9.9852508e-01]\n",
            " [9.4838339e-01]\n",
            " [5.3765118e-01]\n",
            " [1.2160509e-02]\n",
            " [9.4321877e-01]\n",
            " [6.8358332e-01]\n",
            " [5.5894607e-01]\n",
            " [7.6693159e-01]\n",
            " [9.9512982e-01]\n",
            " [9.5142573e-01]\n",
            " [9.6588057e-01]\n",
            " [7.5886512e-01]\n",
            " [5.5650407e-01]\n",
            " [9.0836763e-01]\n",
            " [9.8964542e-01]\n",
            " [1.9580388e-02]\n",
            " [3.5296164e-02]\n",
            " [8.0924523e-01]\n",
            " [4.9048659e-01]\n",
            " [2.1186067e-02]\n",
            " [3.0113384e-03]\n",
            " [5.0663967e-02]\n",
            " [4.7943756e-01]\n",
            " [8.1076568e-01]\n",
            " [6.5048105e-01]\n",
            " [5.7699805e-01]\n",
            " [3.7292833e-03]\n",
            " [8.7113887e-01]\n",
            " [9.6168397e-03]\n",
            " [9.4838339e-01]\n",
            " [9.0836763e-01]\n",
            " [2.1026419e-01]\n",
            " [9.7945677e-03]\n",
            " [9.3356651e-01]\n",
            " [9.9169928e-01]\n",
            " [7.6721609e-01]\n",
            " [1.0284913e-01]\n",
            " [1.2160504e-02]\n",
            " [6.5048099e-01]\n",
            " [9.3739256e-03]\n",
            " [9.2332534e-02]\n",
            " [9.9954534e-01]\n",
            " [6.0039854e-01]\n",
            " [3.0113384e-03]\n",
            " [9.9833030e-01]\n",
            " [8.4093928e-01]\n",
            " [1.2160509e-02]\n",
            " [4.0651739e-01]\n",
            " [9.7842574e-01]\n",
            " [8.6797035e-01]\n",
            " [7.4704731e-01]\n",
            " [3.0796506e-02]\n",
            " [9.0069604e-01]\n",
            " [6.4034545e-01]\n",
            " [9.4259506e-01]\n",
            " [2.5078708e-01]\n",
            " [1.5498453e-01]\n",
            " [2.9018398e-02]\n",
            " [2.5576942e-02]\n",
            " [9.6389711e-01]\n",
            " [3.5374139e-03]\n",
            " [9.8654765e-01]\n",
            " [1.8420990e-01]\n",
            " [2.5078708e-01]\n",
            " [9.4321877e-01]\n",
            " [7.6688612e-01]\n",
            " [1.2726213e-02]\n",
            " [9.9843615e-01]\n",
            " [9.6451265e-01]\n",
            " [9.6214533e-01]\n",
            " [8.9816666e-01]\n",
            " [6.0039854e-01]\n",
            " [3.5609070e-02]\n",
            " [6.3052430e-04]\n",
            " [8.9425169e-02]\n",
            " [9.9978465e-01]\n",
            " [1.1884117e-01]\n",
            " [8.9182913e-01]\n",
            " [8.9701873e-01]\n",
            " [4.0582668e-02]\n",
            " [9.7988516e-01]\n",
            " [9.7945677e-03]\n",
            " [8.4664953e-01]\n",
            " [3.2220078e-01]\n",
            " [9.8339671e-01]\n",
            " [9.3356651e-01]\n",
            " [9.8339671e-01]\n",
            " [9.9781454e-01]\n",
            " [8.4371224e-02]\n",
            " [9.3164450e-01]\n",
            " [9.9065208e-01]\n",
            " [8.9825672e-01]\n",
            " [9.5169246e-01]\n",
            " [9.8458654e-01]\n",
            " [2.6617164e-03]\n",
            " [8.7511706e-01]\n",
            " [8.6166531e-01]\n",
            " [3.3369500e-03]\n",
            " [1.7909588e-01]\n",
            " [7.6142490e-02]\n",
            " [1.1090793e-03]\n",
            " [9.4308054e-01]\n",
            " [8.1708407e-01]\n",
            " [8.4093928e-01]\n",
            " [9.5046610e-01]\n",
            " [5.5894631e-01]\n",
            " [6.3052430e-04]\n",
            " [9.9795377e-01]\n",
            " [9.9978465e-01]\n",
            " [1.9640502e-02]\n",
            " [9.9955440e-01]\n",
            " [6.1872351e-04]\n",
            " [8.6166531e-01]\n",
            " [9.9955440e-01]\n",
            " [8.9825672e-01]\n",
            " [8.5001880e-01]\n",
            " [9.6945918e-01]\n",
            " [9.8719561e-01]\n",
            " [8.3306812e-02]\n",
            " [7.4349070e-01]\n",
            " [9.7790104e-01]\n",
            " [5.7699805e-01]\n",
            " [9.7406667e-01]\n",
            " [7.7585399e-01]\n",
            " [2.6203489e-02]\n",
            " [7.6693159e-01]\n",
            " [3.0113384e-03]\n",
            " [8.7366766e-01]\n",
            " [8.5001880e-01]\n",
            " [2.3983501e-01]\n",
            " [8.5122325e-02]\n",
            " [9.5197213e-01]\n",
            " [9.5046610e-01]\n",
            " [1.8583524e-01]\n",
            " [3.5296213e-02]\n",
            " [8.0924523e-01]\n",
            " [9.9049872e-01]\n",
            " [1.1884117e-01]\n",
            " [1.1884117e-01]\n",
            " [1.7368338e-01]\n",
            " [2.0891126e-01]\n",
            " [1.9791752e-01]\n",
            " [2.8767021e-02]\n",
            " [1.6277534e-01]\n",
            " [9.7406667e-01]\n",
            " [4.0651739e-01]\n",
            " [7.9617602e-01]\n",
            " [9.9333757e-01]\n",
            " [8.4327257e-05]\n",
            " [9.5946705e-01]\n",
            " [9.9512982e-01]\n",
            " [9.9990207e-01]\n",
            " [2.6046296e-04]\n",
            " [8.9182913e-01]\n",
            " [9.9067205e-01]\n",
            " [9.9515051e-01]\n",
            " [2.8107292e-03]\n",
            " [9.2721564e-01]\n",
            " [8.7113887e-01]\n",
            " [8.2420743e-01]\n",
            " [9.8458654e-01]\n",
            " [9.5142573e-01]\n",
            " [9.3356651e-01]\n",
            " [8.6260104e-01]\n",
            " [9.8513550e-01]\n",
            " [9.9145252e-01]\n",
            " [6.4034575e-01]\n",
            " [8.5307115e-01]\n",
            " [8.7113887e-01]\n",
            " [9.7945677e-03]\n",
            " [1.7914681e-01]\n",
            " [9.6967542e-01]\n",
            " [6.2006959e-03]\n",
            " [9.9292356e-01]\n",
            " [9.9533290e-01]\n",
            " [6.4592963e-01]\n",
            " [8.8241410e-01]\n",
            " [9.9533290e-01]\n",
            " [3.8251992e-02]\n",
            " [4.8406142e-01]\n",
            " [2.5273579e-01]\n",
            " [7.2351521e-01]\n",
            " [9.9416864e-01]\n",
            " [7.6806843e-01]\n",
            " [8.6166531e-01]\n",
            " [8.8241410e-01]\n",
            " [1.2991276e-01]\n",
            " [9.9990720e-01]\n",
            " [7.6688612e-01]\n",
            " [8.5122325e-02]\n",
            " [1.7811123e-01]\n",
            " [6.6029155e-01]\n",
            " [1.9791752e-01]\n",
            " [7.7471298e-01]\n",
            " [1.9640502e-02]\n",
            " [8.2419819e-01]\n",
            " [2.9018398e-02]\n",
            " [8.9425109e-02]\n",
            " [9.9418086e-01]\n",
            " [9.5215762e-01]\n",
            " [9.1174972e-01]\n",
            " [9.5169246e-01]\n",
            " [7.8709954e-01]\n",
            " [2.3885951e-03]\n",
            " [8.7511706e-01]\n",
            " [8.5307115e-01]\n",
            " [6.1870062e-01]\n",
            " [8.2767028e-01]\n",
            " [9.5197213e-01]\n",
            " [2.6203489e-02]\n",
            " [3.0796506e-02]\n",
            " [3.7453371e-01]\n",
            " [1.5539908e-01]\n",
            " [9.8958713e-01]\n",
            " [5.7149595e-01]\n",
            " [5.3569341e-01]\n",
            " [5.1903623e-01]\n",
            " [9.9993193e-01]\n",
            " [1.4888266e-01]\n",
            " [9.0104481e-03]\n",
            " [8.4664953e-01]\n",
            " [8.5163929e-02]\n",
            " [9.9978465e-01]\n",
            " [9.4594651e-01]\n",
            " [1.0780154e-01]\n",
            " [9.7842574e-01]\n",
            " [1.0607366e-02]\n",
            " [5.4108965e-01]\n",
            " [2.6046296e-04]\n",
            " [1.7909591e-01]\n",
            " [9.9519676e-01]\n",
            " [4.9846482e-02]]\n"
          ]
        }
      ],
      "source": [
        "model.compile(optimizer='adam',\n",
        "              loss='binary_crossentropy',\n",
        "              metrics=['accuracy'])\n",
        "model.fit(x_train,y_train, epochs=100)\n",
        "print(model.predict(x_test))"
      ]
    },
    {
      "cell_type": "code",
      "execution_count": 34,
      "metadata": {
        "colab": {
          "base_uri": "https://localhost:8080/"
        },
        "id": "e6LcZyrCrxxT",
        "outputId": "6ff0dcee-aa69-43df-b54d-ef65d67c77cf"
      },
      "outputs": [
        {
          "output_type": "stream",
          "name": "stdout",
          "text": [
            "9/9 [==============================] - 0s 3ms/step - loss: 0.4377 - accuracy: 0.8210\n",
            "Loss : 43.77%\n",
            "Accuracy : 82.10%\n"
          ]
        }
      ],
      "source": [
        "loss, accuracy = model.evaluate(x_test, y_test)\n",
        "print(f\"Loss : {loss * 100:.2f}%\")\n",
        "print(f\"Accuracy : {accuracy * 100:.2f}%\")"
      ]
    },
    {
      "cell_type": "code",
      "source": [],
      "metadata": {
        "id": "3y0zb6Q2u4V8"
      },
      "execution_count": 34,
      "outputs": []
    }
  ],
  "metadata": {
    "kernelspec": {
      "display_name": "base",
      "language": "python",
      "name": "python3"
    },
    "language_info": {
      "codemirror_mode": {
        "name": "ipython",
        "version": 3
      },
      "file_extension": ".py",
      "mimetype": "text/x-python",
      "name": "python",
      "nbconvert_exporter": "python",
      "pygments_lexer": "ipython3",
      "version": "3.11.3"
    },
    "orig_nbformat": 4,
    "colab": {
      "provenance": []
    }
  },
  "nbformat": 4,
  "nbformat_minor": 0
}